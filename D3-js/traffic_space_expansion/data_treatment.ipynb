{
 "cells": [
  {
   "cell_type": "markdown",
   "metadata": {},
   "source": [
    "# Street Traffic Based Space Dilation/Contraction "
   ]
  },
  {
   "cell_type": "markdown",
   "metadata": {},
   "source": [
    "---"
   ]
  },
  {
   "cell_type": "markdown",
   "metadata": {},
   "source": [
    "### Initial Imports and Pre-Settings "
   ]
  },
  {
   "cell_type": "code",
   "execution_count": 1,
   "metadata": {},
   "outputs": [],
   "source": [
    "import glob\n",
    "import json\n",
    "\n",
    "import seaborn as sns\n",
    "import matplotlib.pyplot as plt\n",
    "\n",
    "import geopy.distance\n",
    "import numpy as np\n",
    "import pandas as pd"
   ]
  },
  {
   "cell_type": "markdown",
   "metadata": {},
   "source": [
    "---"
   ]
  },
  {
   "cell_type": "markdown",
   "metadata": {},
   "source": [
    "### Data Reading and Wrangling "
   ]
  },
  {
   "cell_type": "code",
   "execution_count": 2,
   "metadata": {},
   "outputs": [],
   "source": [
    "raw_data = pd.read_csv(glob.glob('*.csv')[0])\n",
    "geozones = json.load(open(glob.glob(('*.json'))[0], 'r', encoding='utf-8'))"
   ]
  },
  {
   "cell_type": "code",
   "execution_count": 3,
   "metadata": {},
   "outputs": [],
   "source": [
    "zones_df = pd.DataFrame(geozones['features'])\n",
    "zones_df.loc[:, 'coordinates'] = zones_df.geometry.apply(lambda x: np.mean(x['coordinates'][0], 0))\n",
    "zones_df.loc[:, 'movement_id'] = zones_df.properties.apply(lambda x: x['MOVEMENT_ID']).astype(int)\n",
    "zones_df.loc[:, 'display_name'] = zones_df.properties.apply(lambda x: x['DISPLAY_NAME'])\n",
    "zones_df = zones_df[zones_df.coordinates.apply(lambda x: len(x)) == 2]\n",
    "zones_df = zones_df[['movement_id', 'display_name', 'coordinates']]"
   ]
  },
  {
   "cell_type": "code",
   "execution_count": 4,
   "metadata": {},
   "outputs": [],
   "source": [
    "data = raw_data.merge(zones_df.rename(columns={'movement_id': 'sourceid'}), how='inner', on='sourceid')\n",
    "data.rename(columns={'display_name': 'from', 'coordinates': 'coord_1'}, inplace=True)\n",
    "data = data.merge(zones_df.rename(columns={'movement_id': 'dstid'}), how='inner', on='dstid')\n",
    "data.rename(columns={'display_name': 'to', 'coordinates': 'coord_2'}, inplace=True)\n",
    "\n",
    "data.loc[:, 'transition'] = data['from'] + ' -> ' + data['to']"
   ]
  },
  {
   "cell_type": "code",
   "execution_count": 5,
   "metadata": {},
   "outputs": [],
   "source": [
    "data.loc[:, 'x0'] = data.coord_1.apply(lambda x: x[0])\n",
    "data.loc[:, 'xf'] = data.coord_2.apply(lambda x: x[0])\n",
    "data.loc[:, 'y0'] = data.coord_1.apply(lambda x: x[1])\n",
    "data.loc[:, 'yf'] = data.coord_2.apply(lambda x: x[1])\n",
    "\n",
    "data.loc[:, 'theta'] = np.arctan((data.yf - data.y0) / (data.xf - data.x0))"
   ]
  },
  {
   "cell_type": "markdown",
   "metadata": {},
   "source": [
    "At first I will be applying euclidian distance based on lat/lon for the sake on simplicity."
   ]
  },
  {
   "cell_type": "code",
   "execution_count": 6,
   "metadata": {},
   "outputs": [],
   "source": [
    "# unique_transitions = data[['transition', 'coord_1', 'coord_2']].drop_duplicates(subset=['transition']).reset_index(drop=True).copy()\n",
    "# unique_transitions.loc[:, 'distance'] = unique_transitions.apply(lambda x: geopy.distance.geodesic(x['coord_1'], x['coord_2']).m, axis=1)\n",
    "# data = data.merge(unique_transitions[['transition', 'distance']], on='transition')\n",
    "\n",
    "data.loc[:, 'distance'] = np.sqrt((data.xf - data.x0) ** 2 + (data.yf - data.y0) ** 2)"
   ]
  },
  {
   "cell_type": "code",
   "execution_count": 7,
   "metadata": {},
   "outputs": [],
   "source": [
    "time_reference = 'geometric_mean_travel_time'\n",
    "hod_ref = 3\n",
    "\n",
    "aux_df = data[data.hod == hod_ref][['transition', time_reference]].copy()\n",
    "aux_df.rename(columns={'geometric_mean_travel_time': 'partition_norm'}, inplace=True)\n",
    "\n",
    "data = data.merge(aux_df, on='transition')"
   ]
  },
  {
   "cell_type": "code",
   "execution_count": 8,
   "metadata": {},
   "outputs": [],
   "source": [
    "data.loc[:, 'norm_time'] = data[time_reference] / data.partition_norm\n",
    "data.loc[:, 'norm_distance'] = data.norm_time * data.distance\n",
    "data.loc[:, 'distance_delta'] = data.norm_distance - data.distance\n",
    "\n",
    "data.loc[:, 'dx'] = data.coord_2.apply(lambda x: x[0]) + np.cos(data.theta) * data.distance_delta\n",
    "data.loc[:, 'dy'] = data.coord_2.apply(lambda x: x[1]) + np.sin(data.theta) * data.distance_delta"
   ]
  },
  {
   "cell_type": "code",
   "execution_count": 9,
   "metadata": {},
   "outputs": [],
   "source": [
    "data.sort_values(['from', 'to', 'hod'], inplace=True)\n",
    "data.reset_index(drop=True, inplace=True)"
   ]
  },
  {
   "cell_type": "code",
   "execution_count": 10,
   "metadata": {},
   "outputs": [],
   "source": [
    "result = data[['from', 'to', 'hod', 'x0', 'y0', 'xf', 'yf', 'dx', 'dy', 'norm_time', 'norm_distance', 'distance']].copy()"
   ]
  },
  {
   "cell_type": "code",
   "execution_count": 11,
   "metadata": {},
   "outputs": [
    {
     "data": {
      "text/html": [
       "<div>\n",
       "<style scoped>\n",
       "    .dataframe tbody tr th:only-of-type {\n",
       "        vertical-align: middle;\n",
       "    }\n",
       "\n",
       "    .dataframe tbody tr th {\n",
       "        vertical-align: top;\n",
       "    }\n",
       "\n",
       "    .dataframe thead th {\n",
       "        text-align: right;\n",
       "    }\n",
       "</style>\n",
       "<table border=\"1\" class=\"dataframe\">\n",
       "  <thead>\n",
       "    <tr style=\"text-align: right;\">\n",
       "      <th></th>\n",
       "      <th>from</th>\n",
       "      <th>to</th>\n",
       "      <th>hod</th>\n",
       "      <th>x0</th>\n",
       "      <th>y0</th>\n",
       "      <th>xf</th>\n",
       "      <th>yf</th>\n",
       "      <th>dx</th>\n",
       "      <th>dy</th>\n",
       "      <th>norm_time</th>\n",
       "      <th>norm_distance</th>\n",
       "      <th>distance</th>\n",
       "    </tr>\n",
       "  </thead>\n",
       "  <tbody>\n",
       "    <tr>\n",
       "      <th>236354</th>\n",
       "      <td>Brás</td>\n",
       "      <td>Estrada das Lágrimas</td>\n",
       "      <td>9</td>\n",
       "      <td>-46.619277</td>\n",
       "      <td>-23.549157</td>\n",
       "      <td>-46.571614</td>\n",
       "      <td>-23.638354</td>\n",
       "      <td>-46.565273</td>\n",
       "      <td>-23.650221</td>\n",
       "      <td>1.133046</td>\n",
       "      <td>0.114588</td>\n",
       "      <td>0.101133</td>\n",
       "    </tr>\n",
       "    <tr>\n",
       "      <th>842574</th>\n",
       "      <td>Jardim Miriam</td>\n",
       "      <td>Pari</td>\n",
       "      <td>2</td>\n",
       "      <td>-46.642803</td>\n",
       "      <td>-23.679109</td>\n",
       "      <td>-46.616893</td>\n",
       "      <td>-23.529146</td>\n",
       "      <td>-46.615785</td>\n",
       "      <td>-23.522732</td>\n",
       "      <td>1.042767</td>\n",
       "      <td>0.158693</td>\n",
       "      <td>0.152185</td>\n",
       "    </tr>\n",
       "    <tr>\n",
       "      <th>282831</th>\n",
       "      <td>Campestre</td>\n",
       "      <td>Vieira de Moraes</td>\n",
       "      <td>21</td>\n",
       "      <td>-46.548033</td>\n",
       "      <td>-23.640218</td>\n",
       "      <td>-46.671589</td>\n",
       "      <td>-23.625767</td>\n",
       "      <td>-46.656247</td>\n",
       "      <td>-23.627562</td>\n",
       "      <td>1.124172</td>\n",
       "      <td>0.139844</td>\n",
       "      <td>0.124397</td>\n",
       "    </tr>\n",
       "    <tr>\n",
       "      <th>301260</th>\n",
       "      <td>Campo Grande</td>\n",
       "      <td>Bandeirantes</td>\n",
       "      <td>2</td>\n",
       "      <td>-46.674494</td>\n",
       "      <td>-23.681029</td>\n",
       "      <td>-46.670161</td>\n",
       "      <td>-23.610877</td>\n",
       "      <td>-46.669839</td>\n",
       "      <td>-23.605670</td>\n",
       "      <td>1.074233</td>\n",
       "      <td>0.075503</td>\n",
       "      <td>0.070286</td>\n",
       "    </tr>\n",
       "    <tr>\n",
       "      <th>553341</th>\n",
       "      <td>FAAP</td>\n",
       "      <td>Parque Edu Chaves</td>\n",
       "      <td>0</td>\n",
       "      <td>-46.662521</td>\n",
       "      <td>-23.546153</td>\n",
       "      <td>-46.563179</td>\n",
       "      <td>-23.478091</td>\n",
       "      <td>-46.556603</td>\n",
       "      <td>-23.473586</td>\n",
       "      <td>1.066195</td>\n",
       "      <td>0.128393</td>\n",
       "      <td>0.120421</td>\n",
       "    </tr>\n",
       "  </tbody>\n",
       "</table>\n",
       "</div>"
      ],
      "text/plain": [
       "                 from                    to  hod         x0         y0  \\\n",
       "236354           Brás  Estrada das Lágrimas    9 -46.619277 -23.549157   \n",
       "842574  Jardim Miriam                  Pari    2 -46.642803 -23.679109   \n",
       "282831      Campestre      Vieira de Moraes   21 -46.548033 -23.640218   \n",
       "301260   Campo Grande          Bandeirantes    2 -46.674494 -23.681029   \n",
       "553341           FAAP     Parque Edu Chaves    0 -46.662521 -23.546153   \n",
       "\n",
       "               xf         yf         dx         dy  norm_time  norm_distance  \\\n",
       "236354 -46.571614 -23.638354 -46.565273 -23.650221   1.133046       0.114588   \n",
       "842574 -46.616893 -23.529146 -46.615785 -23.522732   1.042767       0.158693   \n",
       "282831 -46.671589 -23.625767 -46.656247 -23.627562   1.124172       0.139844   \n",
       "301260 -46.670161 -23.610877 -46.669839 -23.605670   1.074233       0.075503   \n",
       "553341 -46.563179 -23.478091 -46.556603 -23.473586   1.066195       0.128393   \n",
       "\n",
       "        distance  \n",
       "236354  0.101133  \n",
       "842574  0.152185  \n",
       "282831  0.124397  \n",
       "301260  0.070286  \n",
       "553341  0.120421  "
      ]
     },
     "execution_count": 11,
     "metadata": {},
     "output_type": "execute_result"
    }
   ],
   "source": [
    "result.sample(5)"
   ]
  },
  {
   "cell_type": "markdown",
   "metadata": {},
   "source": [
    "---"
   ]
  },
  {
   "cell_type": "markdown",
   "metadata": {},
   "source": [
    "### Tests "
   ]
  },
  {
   "cell_type": "code",
   "execution_count": 12,
   "metadata": {},
   "outputs": [],
   "source": [
    "max_dist = result[\n",
    "    (result['from'] == 'Pinheiros') & \n",
    "    (result['to'] == 'Sé')\n",
    "].distance.max()"
   ]
  },
  {
   "cell_type": "code",
   "execution_count": 21,
   "metadata": {},
   "outputs": [],
   "source": [
    "df = result[\n",
    "    (result['from'] == 'Pinheiros') & \n",
    "#     (result['to'] == 'Sé') & \n",
    "    (result.distance <= max_dist)\n",
    "].reset_index(drop=True)"
   ]
  },
  {
   "cell_type": "code",
   "execution_count": 22,
   "metadata": {},
   "outputs": [],
   "source": [
    "df.to_csv('test.csv', index=False)"
   ]
  },
  {
   "cell_type": "code",
   "execution_count": 23,
   "metadata": {},
   "outputs": [
    {
     "data": {
      "text/plain": [
       "(2280, 12)"
      ]
     },
     "execution_count": 23,
     "metadata": {},
     "output_type": "execute_result"
    }
   ],
   "source": [
    "df.shape"
   ]
  },
  {
   "cell_type": "code",
   "execution_count": 27,
   "metadata": {},
   "outputs": [
    {
     "data": {
      "text/html": [
       "<div>\n",
       "<style scoped>\n",
       "    .dataframe tbody tr th:only-of-type {\n",
       "        vertical-align: middle;\n",
       "    }\n",
       "\n",
       "    .dataframe tbody tr th {\n",
       "        vertical-align: top;\n",
       "    }\n",
       "\n",
       "    .dataframe thead th {\n",
       "        text-align: right;\n",
       "    }\n",
       "</style>\n",
       "<table border=\"1\" class=\"dataframe\">\n",
       "  <thead>\n",
       "    <tr style=\"text-align: right;\">\n",
       "      <th></th>\n",
       "      <th>from</th>\n",
       "      <th>to</th>\n",
       "      <th>hod</th>\n",
       "      <th>x0</th>\n",
       "      <th>y0</th>\n",
       "      <th>xf</th>\n",
       "      <th>yf</th>\n",
       "      <th>dx</th>\n",
       "      <th>dy</th>\n",
       "      <th>norm_time</th>\n",
       "      <th>norm_distance</th>\n",
       "      <th>distance</th>\n",
       "    </tr>\n",
       "  </thead>\n",
       "  <tbody>\n",
       "  </tbody>\n",
       "</table>\n",
       "</div>"
      ],
      "text/plain": [
       "Empty DataFrame\n",
       "Columns: [from, to, hod, x0, y0, xf, yf, dx, dy, norm_time, norm_distance, distance]\n",
       "Index: []"
      ]
     },
     "execution_count": 27,
     "metadata": {},
     "output_type": "execute_result"
    }
   ],
   "source": [
    "df.head()"
   ]
  },
  {
   "cell_type": "code",
   "execution_count": 15,
   "metadata": {},
   "outputs": [
    {
     "data": {
      "image/png": "[encoded data removed]",
      "text/plain": [
       "<Figure size 576x576 with 1 Axes>"
      ]
     },
     "metadata": {
      "needs_background": "light"
     },
     "output_type": "display_data"
    }
   ],
   "source": [
    "f, ax = plt.subplots(figsize=(8, 8))\n",
    "\n",
    "x0, y0 = df.iloc[0].x0, df.iloc[0].y0\n",
    "ax.scatter(x0, y0, s=15, c='k')\n",
    "\n",
    "for hod in range(24):\n",
    "    frame = df[df.hod == hod]\n",
    "    xf, yf = frame.dx, frame.dy\n",
    "    ax.scatter(xf, yf, s=2, alpha=.5)\n",
    "\n",
    "ax.spines['top'].set_visible(False)\n",
    "ax.spines['left'].set_visible(False)\n",
    "ax.spines['right'].set_visible(False)\n",
    "ax.spines['bottom'].set_visible(False)\n",
    "\n",
    "ax.grid(alpha=.2)\n",
    "\n",
    "plt.show()"
   ]
  },
  {
   "cell_type": "code",
   "execution_count": null,
   "metadata": {},
   "outputs": [],
   "source": []
  },
  {
   "cell_type": "code",
   "execution_count": null,
   "metadata": {},
   "outputs": [],
   "source": []
  },
  {
   "cell_type": "code",
   "execution_count": null,
   "metadata": {},
   "outputs": [],
   "source": []
  },
  {
   "cell_type": "code",
   "execution_count": null,
   "metadata": {},
   "outputs": [],
   "source": []
  },
  {
   "cell_type": "code",
   "execution_count": null,
   "metadata": {},
   "outputs": [],
   "source": []
  },
  {
   "cell_type": "code",
   "execution_count": 16,
   "metadata": {},
   "outputs": [],
   "source": [
    "transitions = [\n",
    "    'Pinheiros -> Sé',\n",
    "]\n",
    "df = data[(data.transition.isin(transitions))].copy()"
   ]
  },
  {
   "cell_type": "code",
   "execution_count": 17,
   "metadata": {},
   "outputs": [],
   "source": [
    "colors = ['red' if i == hod_ref else 'gray' for i in range(24)]"
   ]
  },
  {
   "cell_type": "code",
   "execution_count": 18,
   "metadata": {},
   "outputs": [
    {
     "data": {
      "text/plain": [
       "Text(0, 0.5, 'Normalized Time (in ref to 3 am)')"
      ]
     },
     "execution_count": 18,
     "metadata": {},
     "output_type": "execute_result"
    },
    {
     "data": {
      "image/png": "[encoded data removed]",
      "text/plain": [
       "<Figure size 1152x288 with 1 Axes>"
      ]
     },
     "metadata": {
      "needs_background": "light"
     },
     "output_type": "display_data"
    }
   ],
   "source": [
    "f, ax = plt.subplots(figsize=(16, 4))\n",
    "\n",
    "sns.barplot(\n",
    "    x=df.hod,\n",
    "    y=df.norm_time,\n",
    "    palette=colors,\n",
    "    alpha=.5,\n",
    "    ax=ax\n",
    ")\n",
    "ax.axhline(1, ls='--', lw=2, color='r')\n",
    "\n",
    "ax.set_xlabel('Hour of Day')\n",
    "ax.set_ylabel('Normalized Time (in ref to 3 am)')"
   ]
  },
  {
   "cell_type": "code",
   "execution_count": null,
   "metadata": {},
   "outputs": [],
   "source": []
  }
 ],
 "metadata": {
  "kernelspec": {
   "display_name": "Python 3",
   "language": "python",
   "name": "python3"
  },
  "language_info": {
   "codemirror_mode": {
    "name": "ipython",
    "version": 3
   },
   "file_extension": ".py",
   "mimetype": "text/x-python",
   "name": "python",
   "nbconvert_exporter": "python",
   "pygments_lexer": "ipython3",
   "version": "3.6.8"
  }
 },
 "nbformat": 4,
 "nbformat_minor": 4
}
